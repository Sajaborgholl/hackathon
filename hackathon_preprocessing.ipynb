{
  "nbformat": 4,
  "nbformat_minor": 0,
  "metadata": {
    "colab": {
      "provenance": []
    },
    "kernelspec": {
      "name": "python3",
      "display_name": "Python 3"
    },
    "language_info": {
      "name": "python"
    }
  },
  "cells": [
    {
      "cell_type": "markdown",
      "source": [
        "The dataset contains 48 columns with various survey responses on topics like personality traits, smoking habits, income sufficiency, exercise habits, social media usage, stress levels, and employment status."
      ],
      "metadata": {
        "id": "2n9slJkt_-uD"
      }
    },
    {
      "cell_type": "code",
      "source": [
        "import pandas as pd\n",
        "\n",
        "# Load the dataset\n",
        "file_path = '2024_PersonalityTraits_SurveyData.xls'\n",
        "data = pd.ExcelFile(file_path)\n",
        "df = data.parse('Sheet1')"
      ],
      "metadata": {
        "id": "9-lIL_coA5EY"
      },
      "execution_count": null,
      "outputs": []
    },
    {
      "cell_type": "markdown",
      "source": [
        "### Step 1: Rename Columns\n",
        "In this step, we rename the columns to make them easier to reference. We:\n",
        "- Strip unnecessary whitespace.\n",
        "- Replace spaces with underscores.\n",
        "- Remove special characters to ensure compatibility with coding conventions.\n"
      ],
      "metadata": {
        "id": "UU4di79KATsx"
      }
    },
    {
      "cell_type": "code",
      "source": [
        "# Step 1: Rename columns for easier reference\n",
        "df.columns = df.columns.str.strip().str.replace(' ', '_').str.replace('[^a-zA-Z0-9_]', '', regex=True)\n"
      ],
      "metadata": {
        "id": "3XRS0RNOAil1"
      },
      "execution_count": null,
      "outputs": []
    },
    {
      "cell_type": "markdown",
      "source": [
        "### Step 2: Identify and Handle Missing Values\n",
        "We analyze the dataset for missing values:\n",
        "- Display the count of missing values in each column.\n",
        "- Drop columns with more than 50% missing data to retain meaningful information.\n"
      ],
      "metadata": {
        "id": "SSTPQcnMAiSw"
      }
    },
    {
      "cell_type": "code",
      "source": [
        "# Step 2: Identify and handle missing values\n",
        "missing_values = df.isnull().sum().sort_values(ascending=False)\n",
        "\n",
        "# Drop columns with excessive missing values (more than 50%)\n",
        "threshold = 0.5 * len(df)\n",
        "columns_to_drop = missing_values[missing_values > threshold].index\n",
        "df_cleaned = df.drop(columns=columns_to_drop)\n"
      ],
      "metadata": {
        "id": "d_h0vg-7At1v"
      },
      "execution_count": null,
      "outputs": []
    },
    {
      "cell_type": "markdown",
      "source": [
        "### Step 3: Remove Duplicate Rows\n",
        "Duplicates in the dataset can lead to biased results. We remove any duplicate rows to ensure data integrity.\n"
      ],
      "metadata": {
        "id": "Y-xpYBFQBHlX"
      }
    },
    {
      "cell_type": "code",
      "source": [
        "# Step 3: Check and handle duplicate rows\n",
        "df_cleaned = df_cleaned.drop_duplicates()\n"
      ],
      "metadata": {
        "id": "BUGirxulBKm3"
      },
      "execution_count": null,
      "outputs": []
    },
    {
      "cell_type": "markdown",
      "source": [
        "### Step 4: Standardize Categorical Values\n",
        "To make categorical data consistent, we:\n",
        "- Convert all text in categorical columns to lowercase.\n",
        "- This avoids issues caused by case sensitivity during analysis.\n"
      ],
      "metadata": {
        "id": "4u9A8s79BRMn"
      }
    },
    {
      "cell_type": "code",
      "source": [
        "# Step 4: Standardize categorical values\n",
        "categorical_cols = df_cleaned.select_dtypes(include=['object']).columns\n",
        "df_cleaned[categorical_cols] = df_cleaned[categorical_cols].apply(lambda x: x.str.lower() if x.dtype == \"object\" else x)\n"
      ],
      "metadata": {
        "id": "XC99o9yJBSVz"
      },
      "execution_count": null,
      "outputs": []
    },
    {
      "cell_type": "markdown",
      "source": [
        "### Step 5: Handle Missing Values in Remaining Columns\n",
        "To prepare the data for modeling, we handle missing values:\n",
        "- Numeric columns are filled with their median value.\n",
        "- Categorical columns are filled with the most frequent value (mode).\n",
        "\n",
        "PS: most missing values are concentrated in columns with \"comment\" in their name such as : \"what is your current employment status comment\" column"
      ],
      "metadata": {
        "id": "m7mKKLUIEIVp"
      }
    },
    {
      "cell_type": "code",
      "source": [
        "# Step 5: Handle missing values in remaining columns\n",
        "# Fill numeric columns with the median\n",
        "numeric_cols = df_cleaned.select_dtypes(include=['number']).columns\n",
        "df_cleaned[numeric_cols] = df_cleaned[numeric_cols].fillna(df_cleaned[numeric_cols].median())\n",
        "\n",
        "# Fill categorical columns with the mode\n",
        "df_cleaned[categorical_cols] = df_cleaned[categorical_cols].fillna(df_cleaned[categorical_cols].mode().iloc[0])\n"
      ],
      "metadata": {
        "id": "kqppBXcaEJc5"
      },
      "execution_count": null,
      "outputs": []
    },
    {
      "cell_type": "markdown",
      "source": [
        "### Verify the Cleaned Data\n",
        "Finally, we verify the dataset after cleaning by:\n",
        "- Viewing the dataset structure using `.info()` to confirm no missing values remain.\n",
        "- Displaying the first few rows using `.head()` for visual inspection.\n"
      ],
      "metadata": {
        "id": "zt2Civ7bEigK"
      }
    },
    {
      "cell_type": "code",
      "source": [
        "# Verify the cleaned data\n",
        "print(df_cleaned.info())\n",
        "print(df_cleaned.head())\n"
      ],
      "metadata": {
        "colab": {
          "base_uri": "https://localhost:8080/"
        },
        "id": "HKajHrz3EkuT",
        "outputId": "a9f82c24-68f1-449e-97e2-f512c90425d3"
      },
      "execution_count": null,
      "outputs": [
        {
          "output_type": "stream",
          "name": "stdout",
          "text": [
            "<class 'pandas.core.frame.DataFrame'>\n",
            "RangeIndex: 212 entries, 0 to 211\n",
            "Data columns (total 44 columns):\n",
            " #   Column                                                                                                                                                                      Non-Null Count  Dtype \n",
            "---  ------                                                                                                                                                                      --------------  ----- \n",
            " 0   Unnamed_0                                                                                                                                                                   212 non-null    int64 \n",
            " 1   Sector                                                                                                                                                                      212 non-null    object\n",
            " 2   Last_page                                                                                                                                                                   212 non-null    int64 \n",
            " 3   Have_you_smoked_at_least_one_full_tobacco_cigarette_excluding_ecigarettes_once_or_more_in_the_past_30_days                                                                  212 non-null    object\n",
            " 4   I_see_myself_as_someone_who_is_extraverted_enthusiastic                                                                                                                     212 non-null    object\n",
            " 5   I_see_myself_as_someone_who_is_critical_quarrelsome                                                                                                                         212 non-null    object\n",
            " 6   I_see_myself_as_someone_who_is_dependable_selfdisciplined                                                                                                                   212 non-null    object\n",
            " 7   I_see_myself_as_someone_who_is_anxious_easily_upset                                                                                                                         212 non-null    object\n",
            " 8   I_see_myself_as_someone_who_is_open_to_new_experiences                                                                                                                      212 non-null    object\n",
            " 9   I_see_myself_as_someone_who_is_reserved_quiet                                                                                                                               212 non-null    object\n",
            " 10  I_see_myself_as_someone_who_is_sympathetic_warm                                                                                                                             212 non-null    object\n",
            " 11  I_see_myself_as_someone_who_is_disorganized_careless                                                                                                                        212 non-null    object\n",
            " 12  I_see_myself_as_someone_who_is_calm_emotionally_stable                                                                                                                      212 non-null    object\n",
            " 13  I_see_myself_as_someone_who_is_conventional_uncreative                                                                                                                      212 non-null    object\n",
            " 14  Do_you_find_it_difficult_to_refrain_from_smoking_where_it_is_forbidden_church_library_cinema_plane_etc                                                                      212 non-null    object\n",
            " 15  How_many_cigarettes_do_you_smoke_each_day                                                                                                                                   212 non-null    object\n",
            " 16  Do_you_smoke_more_frequently_during_the_first_hours_after_waking_up_than_during_the_rest_of_the_day                                                                         212 non-null    object\n",
            " 17  Do_you_smoke_if_you_are_so_ill_that_you_are_in_bed_most_of_the_day                                                                                                          212 non-null    object\n",
            " 18  How_soon_after_you_wake_up_do_you_smoke_your_first_cigarette                                                                                                                212 non-null    object\n",
            " 19  Which_cigarette_would_you_mostly_hate_to_give_up                                                                                                                            212 non-null    object\n",
            " 20  How_old_were_you_the_first_time_you_smoked_a_full_cigarette_not_just_a_few_puffs                                                                                            212 non-null    int64 \n",
            " 21  How_would_you_describe_your_current_smoking_behavior_compared_to_your_smoking_behavior_before_Lebanons_economic_crisis_and_revolution_began_in_2019                         212 non-null    object\n",
            " 22  What_is_your_favorite_or_preferred_cigarette_brands_if_you_were_able_to_access_it                                                                                           212 non-null    object\n",
            " 23  What_cigarette_brands_are_you_currently_using                                                                                                                               212 non-null    object\n",
            " 24  Are_you_currently_able_to_afford_your_favorite_or_preferred_cigarette_brands                                                                                                212 non-null    object\n",
            " 25  Has_2019s_revolution_or_economic_crisis_caused_you_to_switch_away_from_your_favorite_or_preferred_cigarette_brands_to_an_alternative                                        212 non-null    object\n",
            " 26  Gender                                                                                                                                                                      212 non-null    object\n",
            " 27  How_old_are_you                                                                                                                                                             212 non-null    int64 \n",
            " 28  Which_governerate_do_you_live_in_or_spend_most_of_your_time_in                                                                                                              212 non-null    object\n",
            " 29  What_is_the_highest_level_of_education_you_have_attained                                                                                                                    212 non-null    object\n",
            " 30  What_is_your_current_employment_status                                                                                                                                      212 non-null    object\n",
            " 31  What_is_your_current_marital_status                                                                                                                                         212 non-null    object\n",
            " 32  Do_you_have_close_friends                                                                                                                                                   212 non-null    object\n",
            " 33  Of_the_five_closest_friends_or_acquaintances_that_you_spend_time_with_on_a_regular_basis_how_many_of_them_are_smokers                                                       212 non-null    int64 \n",
            " 34  What_is_your_main_source_of_income                                                                                                                                          212 non-null    object\n",
            " 35  What_type_of_income_or_financial_support_does_your_household_receive                                                                                                        212 non-null    object\n",
            " 36  If_you_receive_payment_in_Lebanese_Lira_what_is_your_current_estimated_monthly_household_income_If_income_is_in_US_Dollars_then_refer_to_the_current_black_market_exchange  212 non-null    object\n",
            " 37  How_would_you_describe_your_current_income_sufficiency                                                                                                                      212 non-null    object\n",
            " 38  Including_yourself_how_many_people_currently_live_in_your_household                                                                                                         212 non-null    int64 \n",
            " 39  To_what_extent_were_you_financially_negatively_affected_by_the_deterioration_of_the_Lebanese_economy                                                                        212 non-null    object\n",
            " 40  How_often_do_you_exercise                                                                                                                                                   212 non-null    object\n",
            " 41  On_average_how_many_hours_per_day_do_you_spend_on_social_media_for_entertainment_and_social_interaction_Facebook_Instagram_YouTube_etc                                      212 non-null    object\n",
            " 42  How_often_do_you_feel_stressed                                                                                                                                              212 non-null    object\n",
            " 43  Employment_Status                                                                                                                                                           212 non-null    object\n",
            "dtypes: int64(6), object(38)\n",
            "memory usage: 73.0+ KB\n",
            "None\n",
            "   Unnamed_0   Sector  Last_page  \\\n",
            "0          5  private          5   \n",
            "1         11  private          5   \n",
            "2         14  private          5   \n",
            "3         15  private          5   \n",
            "4         16  private          5   \n",
            "\n",
            "  Have_you_smoked_at_least_one_full_tobacco_cigarette_excluding_ecigarettes_once_or_more_in_the_past_30_days  \\\n",
            "0                                                yes                                                           \n",
            "1                                                yes                                                           \n",
            "2                                                yes                                                           \n",
            "3                                                yes                                                           \n",
            "4                                                yes                                                           \n",
            "\n",
            "  I_see_myself_as_someone_who_is_extraverted_enthusiastic  \\\n",
            "0                                     agree strongly        \n",
            "1                                   agree moderately        \n",
            "2                                disagree moderately        \n",
            "3                                     agree strongly        \n",
            "4                                     agree a little        \n",
            "\n",
            "  I_see_myself_as_someone_who_is_critical_quarrelsome  \\\n",
            "0                                disagree moderately    \n",
            "1                                   agree moderately    \n",
            "2                         neither agree nor disagree    \n",
            "3                                disagree moderately    \n",
            "4                                     agree a little    \n",
            "\n",
            "  I_see_myself_as_someone_who_is_dependable_selfdisciplined  \\\n",
            "0                                     agree strongly          \n",
            "1                                   agree moderately          \n",
            "2                                     agree a little          \n",
            "3                                     agree strongly          \n",
            "4                                     agree strongly          \n",
            "\n",
            "  I_see_myself_as_someone_who_is_anxious_easily_upset  \\\n",
            "0                                   agree moderately    \n",
            "1                                     agree a little    \n",
            "2                                   agree moderately    \n",
            "3                                  disagree strongly    \n",
            "4                                disagree moderately    \n",
            "\n",
            "  I_see_myself_as_someone_who_is_open_to_new_experiences  \\\n",
            "0                                     agree strongly       \n",
            "1                                     agree strongly       \n",
            "2                                  disagree a little       \n",
            "3                                     agree strongly       \n",
            "4                                   agree moderately       \n",
            "\n",
            "  I_see_myself_as_someone_who_is_reserved_quiet  ...  \\\n",
            "0                                agree a little  ...   \n",
            "1                             disagree strongly  ...   \n",
            "2                              agree moderately  ...   \n",
            "3                           disagree moderately  ...   \n",
            "4                                agree strongly  ...   \n",
            "\n",
            "  What_is_your_main_source_of_income  \\\n",
            "0                own business income   \n",
            "1                            parents   \n",
            "2                            parents   \n",
            "3                            parents   \n",
            "4                         investment   \n",
            "\n",
            "  What_type_of_income_or_financial_support_does_your_household_receive  \\\n",
            "0                             fully in lebanese lira                     \n",
            "1                                fully in us dollars                     \n",
            "2                             fully in lebanese lira                     \n",
            "3                                              mixed                     \n",
            "4                              other, please specify                     \n",
            "\n",
            "  If_you_receive_payment_in_Lebanese_Lira_what_is_your_current_estimated_monthly_household_income_If_income_is_in_US_Dollars_then_refer_to_the_current_black_market_exchange  \\\n",
            "0                           more than 20 million l.l                                                                                                                           \n",
            "1                           more than 20 million l.l                                                                                                                           \n",
            "2                                       i don't know                                                                                                                           \n",
            "3                                       i don't know                                                                                                                           \n",
            "4                                i prefer not to say                                                                                                                           \n",
            "\n",
            "  How_would_you_describe_your_current_income_sufficiency  \\\n",
            "0  high: completely covers necessities with a few...       \n",
            "1  high: completely covers necessities with a few...       \n",
            "2  high: completely covers necessities with a few...       \n",
            "3                     medium: covers all basic needs       \n",
            "4                     medium: covers all basic needs       \n",
            "\n",
            "  Including_yourself_how_many_people_currently_live_in_your_household  \\\n",
            "0                                                  4                    \n",
            "1                                                  4                    \n",
            "2                                                  4                    \n",
            "3                                                  5                    \n",
            "4                                                  6                    \n",
            "\n",
            "  To_what_extent_were_you_financially_negatively_affected_by_the_deterioration_of_the_Lebanese_economy  \\\n",
            "0                                               very                                                     \n",
            "1                                           slightly                                                     \n",
            "2                                         moderately                                                     \n",
            "3                                         moderately                                                     \n",
            "4                                           slightly                                                     \n",
            "\n",
            "                  How_often_do_you_exercise  \\\n",
            "0                                     never   \n",
            "1       often or at least 3 days every week   \n",
            "2  every day or at least 5 times every week   \n",
            "3       often or at least 3 days every week   \n",
            "4  every day or at least 5 times every week   \n",
            "\n",
            "  On_average_how_many_hours_per_day_do_you_spend_on_social_media_for_entertainment_and_social_interaction_Facebook_Instagram_YouTube_etc  \\\n",
            "0                              between 2 and 3 hours                                                                                       \n",
            "1                              between 2 and 3 hours                                                                                       \n",
            "2                                  more than 4 hours                                                                                       \n",
            "3                              between 2 and 3 hours                                                                                       \n",
            "4                                   less than 1 hour                                                                                       \n",
            "\n",
            "  How_often_do_you_feel_stressed Employment_Status  \n",
            "0                     frequently          employed  \n",
            "1                   occasionally        unemployed  \n",
            "2                     constantly          employed  \n",
            "3                   occasionally          employed  \n",
            "4                          never          employed  \n",
            "\n",
            "[5 rows x 44 columns]\n"
          ]
        }
      ]
    },
    {
      "cell_type": "code",
      "source": [
        "# Save the cleaned dataset to a CSV file for use in another file\n",
        "df_cleaned.to_csv('cleaned_dataset.csv', index=False)\n"
      ],
      "metadata": {
        "id": "yhuthYlcFfMS"
      },
      "execution_count": null,
      "outputs": []
    }
  ]
}