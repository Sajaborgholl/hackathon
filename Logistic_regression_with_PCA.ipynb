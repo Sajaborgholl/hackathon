{
  "nbformat": 4,
  "nbformat_minor": 0,
  "metadata": {
    "colab": {
      "provenance": []
    },
    "kernelspec": {
      "name": "python3",
      "display_name": "Python 3"
    },
    "language_info": {
      "name": "python"
    }
  },
  "cells": [
    {
      "cell_type": "code",
      "execution_count": null,
      "metadata": {
        "id": "FMx85x-e1_P-"
      },
      "outputs": [],
      "source": []
    },
    {
      "cell_type": "markdown",
      "source": [
        "# Combining PCA and Logistic Regression with Cross-Validation\n",
        "\n",
        "## Description:\n",
        "This workflow enhances the evaluation process by incorporating **cross-validation**:\n",
        "1. **Reduce Dimensionality**:\n",
        "   - Apply PCA to reduce the high-dimensional feature set while retaining 95% of the variance.\n",
        "2. **Train and Validate**:\n",
        "   - Use Logistic Regression as the classifier.\n",
        "   - Apply 5-fold cross-validation to assess the model's generalization performance.\n",
        "3. **Evaluate**:\n",
        "   - Calculate the mean and standard deviation of accuracy scores across the folds.\n"
      ],
      "metadata": {
        "id": "WXJ_8sol3mKw"
      }
    },
    {
      "cell_type": "code",
      "source": [
        "# Import necessary libraries\n",
        "import pandas as pd\n",
        "from sklearn.decomposition import PCA\n",
        "from sklearn.linear_model import LogisticRegression\n",
        "from sklearn.model_selection import cross_val_score\n",
        "import numpy as np\n"
      ],
      "metadata": {
        "id": "jjp5Xy-j3LUM"
      },
      "execution_count": null,
      "outputs": []
    },
    {
      "cell_type": "markdown",
      "source": [
        "### Step 2: Load the Preprocessed Dataset\n",
        "- Load the feature dataset (`X_reduced`) and the target dataset (`y`).\n",
        "- Verify their shapes for consistency.\n"
      ],
      "metadata": {
        "id": "naGj7Y2Y3Ow7"
      }
    },
    {
      "cell_type": "code",
      "source": [
        "# Load preprocessed data\n",
        "X_file_path = 'preprocessed_features.csv'\n",
        "y_file_path = 'preprocessed_target.csv'\n",
        "\n",
        "X_reduced = pd.read_csv(X_file_path)\n",
        "y = pd.read_csv(y_file_path).squeeze()  # Convert target to a Series\n",
        "\n",
        "# Verify shapes\n",
        "print(f\"Features dataset shape: {X_reduced.shape}\")\n",
        "print(f\"Target dataset shape: {y.shape}\")\n"
      ],
      "metadata": {
        "colab": {
          "base_uri": "https://localhost:8080/"
        },
        "id": "AGxRQAUt3QSL",
        "outputId": "8b6c073b-cd61-4a98-bc32-7737f9dca911"
      },
      "execution_count": null,
      "outputs": [
        {
          "output_type": "stream",
          "name": "stdout",
          "text": [
            "Features dataset shape: (211, 241)\n",
            "Target dataset shape: (211,)\n"
          ]
        }
      ]
    },
    {
      "cell_type": "code",
      "source": [
        "from sklearn.model_selection import GridSearchCV\n",
        "\n",
        "# Define the parameter grid\n",
        "param_grid = {'C': [0.01, 0.1, 1, 10, 100]}\n",
        "\n",
        "# Perform grid search with cross-validation\n",
        "grid_search = GridSearchCV(LogisticRegression(max_iter=1000, random_state=42), param_grid, cv=5, scoring='accuracy')\n",
        "grid_search.fit(X_pca, y)\n",
        "\n",
        "# Best hyperparameters and accuracy\n",
        "print(f\"Best Parameters: {grid_search.best_params_}\")\n",
        "print(f\"Best CV Accuracy: {grid_search.best_score_:.2f}\")"
      ],
      "metadata": {
        "colab": {
          "base_uri": "https://localhost:8080/"
        },
        "id": "KC9qMYIw5ZEt",
        "outputId": "9417a149-9bd4-4b2c-cfad-4670942946c1"
      },
      "execution_count": null,
      "outputs": [
        {
          "output_type": "stream",
          "name": "stdout",
          "text": [
            "Best Parameters: {'C': 0.1}\n",
            "Best CV Accuracy: 0.47\n"
          ]
        }
      ]
    },
    {
      "cell_type": "markdown",
      "source": [],
      "metadata": {
        "id": "siNMbgLT4hP1"
      }
    },
    {
      "cell_type": "markdown",
      "source": [
        "### Step 3: Apply PCA for Dimensionality Reduction\n",
        "- Use PCA to retain 95% of the variance in the dataset.\n",
        "- Check how many principal components are selected and verify the transformation.\n"
      ],
      "metadata": {
        "id": "7qdTQqNg3Sw6"
      }
    },
    {
      "cell_type": "code",
      "source": [
        "# Apply PCA\n",
        "pca = PCA(n_components=0.95)  # Retain 95% of the variance\n",
        "X_pca = pca.fit_transform(X_reduced)\n",
        "\n",
        "print(f\"Number of components after PCA: {X_pca.shape[1]}\")\n"
      ],
      "metadata": {
        "colab": {
          "base_uri": "https://localhost:8080/"
        },
        "id": "S5km752S3U0T",
        "outputId": "45ae6239-9dca-4a6f-c0e0-5ab7ce942db0"
      },
      "execution_count": null,
      "outputs": [
        {
          "output_type": "stream",
          "name": "stdout",
          "text": [
            "Number of components after PCA: 69\n"
          ]
        }
      ]
    },
    {
      "cell_type": "markdown",
      "source": [
        "### Step 4: Perform 5-Fold Cross-Validation\n",
        "- Train and evaluate Logistic Regression using 5-fold cross-validation on the PCA-transformed dataset.\n",
        "- Calculate the mean and standard deviation of accuracy scores across the folds.\n"
      ],
      "metadata": {
        "id": "ZUqKQUMi3XF1"
      }
    },
    {
      "cell_type": "code",
      "source": [
        "# Initialize Logistic Regression model\n",
        "lr_model = LogisticRegression(max_iter=1000, random_state=42)\n",
        "\n",
        "# Perform 5-fold cross-validation\n",
        "cv_scores = cross_val_score(lr_model, X_pca, y, cv=5, scoring='accuracy')\n",
        "\n",
        "# Print cross-validation results\n",
        "print(f\"Cross-Validation Accuracy Scores: {cv_scores}\")\n",
        "print(f\"Mean CV Accuracy: {np.mean(cv_scores):.2f}\")\n",
        "print(f\"Standard Deviation of CV Accuracy: {np.std(cv_scores):.2f}\")\n"
      ],
      "metadata": {
        "colab": {
          "base_uri": "https://localhost:8080/"
        },
        "id": "e8TaeK-L4i5p",
        "outputId": "e9c5a513-1e54-418e-d522-50fdc03f78de"
      },
      "execution_count": null,
      "outputs": [
        {
          "output_type": "stream",
          "name": "stdout",
          "text": [
            "Cross-Validation Accuracy Scores: [0.41860465 0.47619048 0.57142857 0.4047619  0.47619048]\n",
            "Mean CV Accuracy: 0.47\n",
            "Standard Deviation of CV Accuracy: 0.06\n"
          ]
        }
      ]
    }
  ]
}