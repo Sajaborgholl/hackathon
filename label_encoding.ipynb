{
  "nbformat": 4,
  "nbformat_minor": 0,
  "metadata": {
    "colab": {
      "provenance": []
    },
    "kernelspec": {
      "name": "python3",
      "display_name": "Python 3"
    },
    "language_info": {
      "name": "python"
    }
  },
  "cells": [
    {
      "cell_type": "code",
      "execution_count": 10,
      "metadata": {
        "colab": {
          "base_uri": "https://localhost:8080/"
        },
        "id": "gYrlliXLB7au",
        "outputId": "7a162226-03a3-45ec-c660-d75e30f63129"
      },
      "outputs": [
        {
          "output_type": "stream",
          "name": "stdout",
          "text": [
            "Number of PCA components: 22\n",
            "Cross-Validation Accuracy Scores: [0.37209302 0.45238095 0.4047619  0.47619048 0.45238095]\n",
            "Mean CV Accuracy: 0.43\n",
            "Standard Deviation of CV Accuracy: 0.04\n"
          ]
        }
      ],
      "source": [
        "import pandas as pd\n",
        "from sklearn.preprocessing import LabelEncoder, StandardScaler\n",
        "from sklearn.decomposition import PCA\n",
        "from sklearn.model_selection import cross_val_score\n",
        "from sklearn.linear_model import LogisticRegression\n",
        "\n",
        "# Step 1: Load the dataset\n",
        "file_path = 'relevant_features_dataset.csv'\n",
        "df = pd.read_csv(file_path)\n",
        "\n",
        "# Step 2: Remove rows with the \"never\" class in the target column\n",
        "target_column = 'How_often_do_you_feel_stressed'\n",
        "df = df[df[target_column] != \"never\"]\n",
        "\n",
        "# Step 3: Identify categorical columns and apply Label Encoding\n",
        "categorical_cols = df.select_dtypes(include=['object']).columns\n",
        "label_encoders = {}\n",
        "for col in categorical_cols:\n",
        "    le = LabelEncoder()\n",
        "    df[col] = le.fit_transform(df[col])\n",
        "    label_encoders[col] = le\n",
        "\n",
        "# Step 4: Separate features and target\n",
        "X = df.drop(columns=[target_column])\n",
        "y = df[target_column]\n",
        "\n",
        "# Step 5: Scale the features\n",
        "scaler = StandardScaler()\n",
        "X_scaled = scaler.fit_transform(X)\n",
        "\n",
        "# Step 6: Apply PCA for dimensionality reduction\n",
        "pca = PCA(n_components=0.95)\n",
        "X_pca = pca.fit_transform(X_scaled)\n",
        "print(f\"Number of PCA components: {X_pca.shape[1]}\")\n",
        "\n",
        "# Step 7: Perform Cross-Validation with Logistic Regression\n",
        "logistic_model = LogisticRegression(max_iter=5000, solver='saga', random_state=42)\n",
        "cv_scores = cross_val_score(logistic_model, X_pca, y, cv=5, scoring='accuracy')\n",
        "\n",
        "# Step 8: Print Results\n",
        "print(f\"Cross-Validation Accuracy Scores: {cv_scores}\")\n",
        "print(f\"Mean CV Accuracy: {cv_scores.mean():.2f}\")\n",
        "print(f\"Standard Deviation of CV Accuracy: {cv_scores.std():.2f}\")\n"
      ]
    }
  ]
}