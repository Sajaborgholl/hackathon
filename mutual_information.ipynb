{
  "nbformat": 4,
  "nbformat_minor": 0,
  "metadata": {
    "colab": {
      "provenance": []
    },
    "kernelspec": {
      "name": "python3",
      "display_name": "Python 3"
    },
    "language_info": {
      "name": "python"
    }
  },
  "cells": [
    {
      "cell_type": "markdown",
      "source": [
        "### Step 1: Import Libraries\n",
        "In this step, we import the necessary Python libraries:\n",
        "1. `pandas` for data manipulation.\n",
        "2. `mutual_info_classif` from `sklearn` to calculate mutual information.\n",
        "3. `LabelEncoder` from `sklearn` to encode categorical variables into numeric format.\n"
      ],
      "metadata": {
        "id": "WWjeU72dhqQ_"
      }
    },
    {
      "cell_type": "code",
      "source": [
        "# Import necessary libraries\n",
        "import pandas as pd\n",
        "from sklearn.feature_selection import mutual_info_classif\n",
        "from sklearn.preprocessing import LabelEncoder\n"
      ],
      "metadata": {
        "id": "eqVHAr4LhwCu"
      },
      "execution_count": 1,
      "outputs": []
    },
    {
      "cell_type": "markdown",
      "source": [
        "### Step 2: Load the Dataset\n",
        "Here, we load the cleaned dataset into a Pandas DataFrame. Replace `cleaned_dataset.csv` with the path to your dataset file.\n"
      ],
      "metadata": {
        "id": "Y-zpqNeGhzvV"
      }
    },
    {
      "cell_type": "code",
      "source": [
        "# Step 2: Load the dataset\n",
        "file_path = 'cleaned_dataset.csv'  # Replace with the path to your dataset\n",
        "df_cleaned = pd.read_csv(file_path)\n"
      ],
      "metadata": {
        "id": "439qxL0uh042"
      },
      "execution_count": 2,
      "outputs": []
    },
    {
      "cell_type": "markdown",
      "source": [
        "### Step 3: Define Features and Target\n",
        "We split the data into:\n",
        "1. `X` (features): All columns except the target variable.\n",
        "2. `y` (target): The column we want to predict (e.g., stress levels).\n"
      ],
      "metadata": {
        "id": "aOKycY66h29f"
      }
    },
    {
      "cell_type": "code",
      "source": [
        "# Step 3: Define features (X) and target (y)\n",
        "target_column = \"How_often_do_you_feel_stressed\"  # Replace with your target column\n",
        "X = df_cleaned.drop(columns=[target_column])  # Features\n",
        "y = df_cleaned[target_column]  # Target\n"
      ],
      "metadata": {
        "id": "T6r3Dpdah8xJ"
      },
      "execution_count": 3,
      "outputs": []
    },
    {
      "cell_type": "markdown",
      "source": [
        "### Step 4: Encode Categorical Variables\n",
        "1. Convert categorical variables in `X` into numeric values using `LabelEncoder`.\n",
        "2. Encode the target variable `y` for compatibility with the mutual information function.\n"
      ],
      "metadata": {
        "id": "fh6afwfTiAfV"
      }
    },
    {
      "cell_type": "code",
      "source": [
        "# Step 4: Encode categorical variables in features\n",
        "X_encoded = X.copy()\n",
        "categorical_columns = X_encoded.select_dtypes(include=['object']).columns\n",
        "for col in categorical_columns:\n",
        "    le = LabelEncoder()\n",
        "    X_encoded[col] = le.fit_transform(X_encoded[col].astype(str))\n",
        "\n",
        "# Encode the target variable\n",
        "y_encoded = LabelEncoder().fit_transform(y)\n"
      ],
      "metadata": {
        "id": "6vwjqV4PiBzl"
      },
      "execution_count": 4,
      "outputs": []
    },
    {
      "cell_type": "markdown",
      "source": [
        "### Step 5: Calculate Mutual Information\n",
        "Use the `mutual_info_classif` function to compute the mutual information between each feature and the target variable. This measures how much information each feature provides about the target.\n"
      ],
      "metadata": {
        "id": "yQBaNuDtiI0N"
      }
    },
    {
      "cell_type": "code",
      "source": [
        "# Step 5: Calculate mutual information\n",
        "mutual_info = mutual_info_classif(X_encoded, y_encoded, discrete_features='auto')\n",
        "mutual_info_series = pd.Series(mutual_info, index=X_encoded.columns).sort_values(ascending=False)\n"
      ],
      "metadata": {
        "id": "YxazhEFSiKRn"
      },
      "execution_count": 5,
      "outputs": []
    },
    {
      "cell_type": "markdown",
      "source": [
        "### Step 6: Display Results\n",
        "Print the mutual information scores for all features, sorted in descending order to highlight the most relevant features.\n"
      ],
      "metadata": {
        "id": "8ArcvfswiMBr"
      }
    },
    {
      "cell_type": "code",
      "source": [
        "# Step 6: Display the results\n",
        "print(\"Mutual Information Scores (Features vs Target):\")\n",
        "print(mutual_info_series)\n"
      ],
      "metadata": {
        "colab": {
          "base_uri": "https://localhost:8080/"
        },
        "id": "l9p22QMeiMx4",
        "outputId": "ca0ff982-7af7-44be-e2f7-be5fe9e1ae72"
      },
      "execution_count": 6,
      "outputs": [
        {
          "output_type": "stream",
          "name": "stdout",
          "text": [
            "Mutual Information Scores (Features vs Target):\n",
            "I_see_myself_as_someone_who_is_anxious_easily_upset                                                                                                                           0.144296\n",
            "I_see_myself_as_someone_who_is_reserved_quiet                                                                                                                                 0.119505\n",
            "Do_you_have_close_friends                                                                                                                                                     0.113222\n",
            "I_see_myself_as_someone_who_is_calm_emotionally_stable                                                                                                                        0.112324\n",
            "Gender                                                                                                                                                                        0.087159\n",
            "Do_you_find_it_difficult_to_refrain_from_smoking_where_it_is_forbidden_church_library_cinema_plane_etc                                                                        0.080438\n",
            "How_old_were_you_the_first_time_you_smoked_a_full_cigarette_not_just_a_few_puffs                                                                                              0.076505\n",
            "What_is_your_favorite_or_preferred_cigarette_brands_if_you_were_able_to_access_it                                                                                             0.075314\n",
            "What_is_the_highest_level_of_education_you_have_attained                                                                                                                      0.072928\n",
            "How_often_do_you_exercise                                                                                                                                                     0.061242\n",
            "How_old_are_you                                                                                                                                                               0.053105\n",
            "What_cigarette_brands_are_you_currently_using                                                                                                                                 0.046616\n",
            "How_many_cigarettes_do_you_smoke_each_day                                                                                                                                     0.041735\n",
            "I_see_myself_as_someone_who_is_disorganized_careless                                                                                                                          0.041368\n",
            "Do_you_smoke_if_you_are_so_ill_that_you_are_in_bed_most_of_the_day                                                                                                            0.040846\n",
            "Including_yourself_how_many_people_currently_live_in_your_household                                                                                                           0.032590\n",
            "I_see_myself_as_someone_who_is_dependable_selfdisciplined                                                                                                                     0.032316\n",
            "What_is_your_main_source_of_income                                                                                                                                            0.030840\n",
            "If_you_receive_payment_in_Lebanese_Lira_what_is_your_current_estimated_monthly_household_income_If_income_is_in_US_Dollars_then_refer_to_the_current_black_market_exchange    0.028411\n",
            "How_soon_after_you_wake_up_do_you_smoke_your_first_cigarette                                                                                                                  0.023380\n",
            "Last_page                                                                                                                                                                     0.016407\n",
            "How_would_you_describe_your_current_smoking_behavior_compared_to_your_smoking_behavior_before_Lebanons_economic_crisis_and_revolution_began_in_2019                           0.015927\n",
            "On_average_how_many_hours_per_day_do_you_spend_on_social_media_for_entertainment_and_social_interaction_Facebook_Instagram_YouTube_etc                                        0.015729\n",
            "Has_2019s_revolution_or_economic_crisis_caused_you_to_switch_away_from_your_favorite_or_preferred_cigarette_brands_to_an_alternative                                          0.014958\n",
            "Have_you_smoked_at_least_one_full_tobacco_cigarette_excluding_ecigarettes_once_or_more_in_the_past_30_days                                                                    0.009105\n",
            "What_type_of_income_or_financial_support_does_your_household_receive                                                                                                          0.007364\n",
            "Are_you_currently_able_to_afford_your_favorite_or_preferred_cigarette_brands                                                                                                  0.006454\n",
            "Unnamed_0                                                                                                                                                                     0.002406\n",
            "Which_governerate_do_you_live_in_or_spend_most_of_your_time_in                                                                                                                0.000000\n",
            "Sector                                                                                                                                                                        0.000000\n",
            "What_is_your_current_employment_status                                                                                                                                        0.000000\n",
            "What_is_your_current_marital_status                                                                                                                                           0.000000\n",
            "Which_cigarette_would_you_mostly_hate_to_give_up                                                                                                                              0.000000\n",
            "Of_the_five_closest_friends_or_acquaintances_that_you_spend_time_with_on_a_regular_basis_how_many_of_them_are_smokers                                                         0.000000\n",
            "Do_you_smoke_more_frequently_during_the_first_hours_after_waking_up_than_during_the_rest_of_the_day                                                                           0.000000\n",
            "I_see_myself_as_someone_who_is_conventional_uncreative                                                                                                                        0.000000\n",
            "I_see_myself_as_someone_who_is_sympathetic_warm                                                                                                                               0.000000\n",
            "How_would_you_describe_your_current_income_sufficiency                                                                                                                        0.000000\n",
            "I_see_myself_as_someone_who_is_open_to_new_experiences                                                                                                                        0.000000\n",
            "To_what_extent_were_you_financially_negatively_affected_by_the_deterioration_of_the_Lebanese_economy                                                                          0.000000\n",
            "I_see_myself_as_someone_who_is_critical_quarrelsome                                                                                                                           0.000000\n",
            "I_see_myself_as_someone_who_is_extraverted_enthusiastic                                                                                                                       0.000000\n",
            "Employment_Status                                                                                                                                                             0.000000\n",
            "dtype: float64\n"
          ]
        }
      ]
    },
    {
      "cell_type": "code",
      "source": [
        "# Filter columns with non-zero mutual information scores\n",
        "relevant_features = mutual_info_series[mutual_info_series > 0].index\n",
        "\n",
        "# Create a new dataset with only the relevant features and the target variable\n",
        "df_relevant = df_cleaned[relevant_features.tolist() + [target_column]]\n",
        "\n",
        "# Save the new dataset for future use\n",
        "new_file_path = 'relevant_features_dataset.csv'  # Path to save the dataset\n",
        "df_relevant.to_csv(new_file_path, index=False)\n",
        "\n",
        "# Display the new dataset's columns\n",
        "print(\"Relevant Features in the Dataset:\")\n",
        "print(df_relevant.columns)\n",
        "\n",
        "print(f\"\\nNew dataset saved as: {new_file_path}\")\n"
      ],
      "metadata": {
        "colab": {
          "base_uri": "https://localhost:8080/"
        },
        "id": "_emhX4dCiN0w",
        "outputId": "612bce9b-330b-4fc6-f504-aee2608da0f8"
      },
      "execution_count": 7,
      "outputs": [
        {
          "output_type": "stream",
          "name": "stdout",
          "text": [
            "Relevant Features in the Dataset:\n",
            "Index(['I_see_myself_as_someone_who_is_anxious_easily_upset',\n",
            "       'I_see_myself_as_someone_who_is_reserved_quiet',\n",
            "       'Do_you_have_close_friends',\n",
            "       'I_see_myself_as_someone_who_is_calm_emotionally_stable', 'Gender',\n",
            "       'Do_you_find_it_difficult_to_refrain_from_smoking_where_it_is_forbidden_church_library_cinema_plane_etc',\n",
            "       'How_old_were_you_the_first_time_you_smoked_a_full_cigarette_not_just_a_few_puffs',\n",
            "       'What_is_your_favorite_or_preferred_cigarette_brands_if_you_were_able_to_access_it',\n",
            "       'What_is_the_highest_level_of_education_you_have_attained',\n",
            "       'How_often_do_you_exercise', 'How_old_are_you',\n",
            "       'What_cigarette_brands_are_you_currently_using',\n",
            "       'How_many_cigarettes_do_you_smoke_each_day',\n",
            "       'I_see_myself_as_someone_who_is_disorganized_careless',\n",
            "       'Do_you_smoke_if_you_are_so_ill_that_you_are_in_bed_most_of_the_day',\n",
            "       'Including_yourself_how_many_people_currently_live_in_your_household',\n",
            "       'I_see_myself_as_someone_who_is_dependable_selfdisciplined',\n",
            "       'What_is_your_main_source_of_income',\n",
            "       'If_you_receive_payment_in_Lebanese_Lira_what_is_your_current_estimated_monthly_household_income_If_income_is_in_US_Dollars_then_refer_to_the_current_black_market_exchange',\n",
            "       'How_soon_after_you_wake_up_do_you_smoke_your_first_cigarette',\n",
            "       'Last_page',\n",
            "       'How_would_you_describe_your_current_smoking_behavior_compared_to_your_smoking_behavior_before_Lebanons_economic_crisis_and_revolution_began_in_2019',\n",
            "       'On_average_how_many_hours_per_day_do_you_spend_on_social_media_for_entertainment_and_social_interaction_Facebook_Instagram_YouTube_etc',\n",
            "       'Has_2019s_revolution_or_economic_crisis_caused_you_to_switch_away_from_your_favorite_or_preferred_cigarette_brands_to_an_alternative',\n",
            "       'Have_you_smoked_at_least_one_full_tobacco_cigarette_excluding_ecigarettes_once_or_more_in_the_past_30_days',\n",
            "       'What_type_of_income_or_financial_support_does_your_household_receive',\n",
            "       'Are_you_currently_able_to_afford_your_favorite_or_preferred_cigarette_brands',\n",
            "       'Unnamed_0', 'How_often_do_you_feel_stressed'],\n",
            "      dtype='object')\n",
            "\n",
            "New dataset saved as: relevant_features_dataset.csv\n"
          ]
        }
      ]
    }
  ]
}