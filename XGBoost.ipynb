{
  "nbformat": 4,
  "nbformat_minor": 0,
  "metadata": {
    "colab": {
      "provenance": []
    },
    "kernelspec": {
      "name": "python3",
      "display_name": "Python 3"
    },
    "language_info": {
      "name": "python"
    }
  },
  "cells": [
    {
      "cell_type": "code",
      "execution_count": 7,
      "metadata": {
        "colab": {
          "base_uri": "https://localhost:8080/"
        },
        "id": "-L8ya1kbHK29",
        "outputId": "fe9ae1cf-9142-4921-b62b-f4a6d2dcca8b"
      },
      "outputs": [
        {
          "output_type": "stream",
          "name": "stdout",
          "text": [
            "Number of features after scaling: 28\n",
            "Running Grid Search...\n",
            "Fitting 5 folds for each of 54 candidates, totalling 270 fits\n",
            "Best Parameters: {'learning_rate': 0.2, 'max_depth': 6, 'n_estimators': 200, 'subsample': 0.8}\n",
            "Best Cross-Validation Accuracy: 0.38\n",
            "Cross-Validation Accuracy Scores (Best XGBoost): [0.41860465 0.35714286 0.47619048 0.30952381 0.33333333]\n",
            "Mean CV Accuracy (Best XGBoost): 0.38\n",
            "Standard Deviation of CV Accuracy (Best XGBoost): 0.06\n"
          ]
        }
      ],
      "source": [
        "import pandas as pd\n",
        "from sklearn.preprocessing import LabelEncoder, StandardScaler\n",
        "from sklearn.model_selection import GridSearchCV, cross_val_score\n",
        "from xgboost import XGBClassifier\n",
        "\n",
        "# Step 1: Load the dataset\n",
        "file_path = 'relevant_features_dataset.csv'\n",
        "df = pd.read_csv(file_path)\n",
        "\n",
        "# Step 2: Remove rows with the \"never\" class in the target column\n",
        "target_column = 'How_often_do_you_feel_stressed'\n",
        "df = df[df[target_column] != \"never\"]\n",
        "\n",
        "# Step 3: Identify categorical columns and apply Label Encoding\n",
        "categorical_cols = df.select_dtypes(include=['object']).columns\n",
        "label_encoders = {}\n",
        "for col in categorical_cols:\n",
        "    le = LabelEncoder()\n",
        "    df[col] = le.fit_transform(df[col])\n",
        "    label_encoders[col] = le\n",
        "\n",
        "# Step 4: Separate features and target\n",
        "X = df.drop(columns=[target_column])\n",
        "y = df[target_column]\n",
        "\n",
        "# Step 5: Scale the features\n",
        "scaler = StandardScaler()\n",
        "X_scaled = scaler.fit_transform(X)\n",
        "print(f\"Number of features after scaling: {X_scaled.shape[1]}\")\n",
        "\n",
        "# Step 6: Define the XGBoost model\n",
        "xgb_model = XGBClassifier(eval_metric='logloss', random_state=42)\n",
        "\n",
        "# Step 7: Define the hyperparameter grid\n",
        "param_grid = {\n",
        "    'n_estimators': [50, 100, 200],\n",
        "    'max_depth': [3, 6, 10],\n",
        "    'learning_rate': [0.01, 0.1, 0.2],\n",
        "    'subsample': [0.8, 1.0]\n",
        "}\n",
        "\n",
        "# Step 8: Perform Grid Search with Cross-Validation\n",
        "grid_search = GridSearchCV(estimator=xgb_model, param_grid=param_grid, cv=5, scoring='accuracy', n_jobs=-1, verbose=1)\n",
        "\n",
        "print(\"Running Grid Search...\")\n",
        "grid_search.fit(X_scaled, y)\n",
        "\n",
        "# Step 9: Print Best Parameters and Results\n",
        "print(f\"Best Parameters: {grid_search.best_params_}\")\n",
        "print(f\"Best Cross-Validation Accuracy: {grid_search.best_score_:.2f}\")\n",
        "\n",
        "# Step 10: Evaluate the best model on cross-validation\n",
        "best_xgb = grid_search.best_estimator_\n",
        "cv_scores_best = cross_val_score(best_xgb, X_scaled, y, cv=5, scoring='accuracy')\n",
        "\n",
        "print(f\"Cross-Validation Accuracy Scores (Best XGBoost): {cv_scores_best}\")\n",
        "print(f\"Mean CV Accuracy (Best XGBoost): {cv_scores_best.mean():.2f}\")\n",
        "print(f\"Standard Deviation of CV Accuracy (Best XGBoost): {cv_scores_best.std():.2f}\")\n"
      ]
    }
  ]
}